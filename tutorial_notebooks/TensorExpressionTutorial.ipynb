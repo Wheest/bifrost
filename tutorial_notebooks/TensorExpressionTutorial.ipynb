{
 "cells": [
  {
   "cell_type": "markdown",
   "metadata": {},
   "source": [
    "Get Started with Tensor Expression\n",
    "\n"
   ]
  },
  {
   "cell_type": "code",
   "execution_count": 3,
   "metadata": {},
   "outputs": [],
   "source": [
    "from __future__ import absolute_import, print_function\n",
    "\n",
    "import tvm\n",
    "import tvm.testing\n",
    "from tvm import te\n",
    "import numpy as np\n",
    "\n",
    "# Global declarations of environment.\n",
    "\n",
    "tgt_host = \"llvm\"\n"
   ]
  },
  {
   "cell_type": "markdown",
   "metadata": {},
   "source": [
    "## Vector Add Example\n",
    "\n"
   ]
  },
  {
   "cell_type": "code",
   "execution_count": 4,
   "metadata": {},
   "outputs": [
    {
     "output_type": "stream",
     "name": "stdout",
     "text": [
      "<class 'tvm.te.tensor.Tensor'>\n"
     ]
    }
   ],
   "source": [
    "n = te.var(\"n\")\n",
    "A = te.placeholder((n,), name=\"A\")\n",
    "B = te.placeholder((n,), name=\"B\")\n",
    "C = te.compute(A.shape, lambda i: A[i] + B[i], name=\"C\")\n",
    "print(type(C))"
   ]
  },
  {
   "cell_type": "code",
   "execution_count": 5,
   "metadata": {},
   "outputs": [],
   "source": [
    "s = te.create_schedule(C.op)"
   ]
  },
  {
   "cell_type": "code",
   "execution_count": 6,
   "metadata": {},
   "outputs": [],
   "source": [
    "bx, tx = s[C].split(C.op.axis[0], factor=64)\n"
   ]
  },
  {
   "cell_type": "code",
   "execution_count": 14,
   "metadata": {},
   "outputs": [],
   "source": [
    "fadd = tvm.build(s, [A, B, C], target_host=tgt_host, name=\"myadd\")\n"
   ]
  },
  {
   "cell_type": "code",
   "execution_count": 15,
   "metadata": {},
   "outputs": [],
   "source": [
    "ctx = tvm.context('llvm', 0)\n",
    "\n",
    "n = 1024\n",
    "a = tvm.nd.array(np.random.uniform(size=n).astype(A.dtype), ctx)\n",
    "b = tvm.nd.array(np.random.uniform(size=n).astype(B.dtype), ctx)\n",
    "c = tvm.nd.array(np.zeros(n, dtype=C.dtype), ctx)\n",
    "fadd(a, b, c)\n",
    "tvm.testing.assert_allclose(c.asnumpy(), a.asnumpy() + b.asnumpy())"
   ]
  },
  {
   "cell_type": "code",
   "execution_count": 16,
   "metadata": {
    "tags": [
     "outputPrepend"
    ]
   },
   "outputs": [
    {
     "output_type": "stream",
     "name": "stdout",
     "text": [
      " %0, %0* %9, i64 0, i32 3, i32 2\n  %76 = load i16, i16* %75, align 2\n  %77 = icmp eq i16 %76, 1\n  %78 = and i1 %74, %77\n  br i1 %78, label %assert_end33, label %assert_fail32, !prof !6\n\nassert_fail32:                                    ; preds = %assert_end31\n  %79 = load void (i8*)*, void (i8*)** @__TVMAPISetLastError, align 8, !tbaa !7\n  tail call void %79(i8* getelementptr inbounds ([198 x i8], [198 x i8]* @.str.5, i64 0, i64 0))\n  ret i32 -1\n\nassert_end33:                                     ; preds = %assert_end31\n  %80 = getelementptr inbounds %0, %0* %9, i64 0, i32 6\n  %81 = load i64, i64* %80, align 8\n  %82 = icmp eq i64 %81, 0\n  br i1 %82, label %assert_end35, label %assert_fail34, !prof !6\n\nassert_fail34:                                    ; preds = %assert_end33\n  %83 = load void (i8*)*, void (i8*)** @__TVMAPISetLastError, align 8, !tbaa !7\n  tail call void %83(i8* getelementptr inbounds ([116 x i8], [116 x i8]* @.str.6, i64 0, i64 0))\n  ret i32 -1\n\nassert_end35:                                     ; preds = %assert_end33\n  %84 = getelementptr inbounds %0, %0* %9, i64 0, i32 1, i32 0\n  %85 = load i32, i32* %84, align 4\n  %86 = icmp eq i32 %85, 1\n  br i1 %86, label %assert_end37, label %assert_fail36, !prof !6\n\nassert_fail36:                                    ; preds = %assert_end35\n  %87 = load void (i8*)*, void (i8*)** @__TVMAPISetLastError, align 8, !tbaa !7\n  tail call void %87(i8* getelementptr inbounds ([109 x i8], [109 x i8]* @.str.7, i64 0, i64 0))\n  ret i32 -1\n\nassert_end37:                                     ; preds = %assert_end35\n  %88 = getelementptr inbounds %0, %0* %14, i64 0, i32 2\n  %89 = load i32, i32* %88, align 4\n  %90 = icmp eq i32 %89, 1\n  br i1 %90, label %assert_end41, label %assert_fail38, !prof !6\n\nassert_fail38:                                    ; preds = %assert_end37\n  %91 = load void (i8*)*, void (i8*)** @__TVMAPISetLastError, align 8, !tbaa !7\n  tail call void %91(i8* getelementptr inbounds ([85 x i8], [85 x i8]* @.str.8, i64 0, i64 0))\n  ret i32 -1\n\nassert_end41:                                     ; preds = %assert_end37\n  %92 = getelementptr inbounds %0, %0* %14, i64 0, i32 3, i32 0\n  %93 = load i8, i8* %92, align 1\n  %94 = icmp eq i8 %93, 2\n  %95 = getelementptr inbounds %0, %0* %14, i64 0, i32 3, i32 1\n  %96 = load i8, i8* %95, align 1\n  %97 = icmp eq i8 %96, 32\n  %98 = and i1 %94, %97\n  %99 = getelementptr inbounds %0, %0* %14, i64 0, i32 3, i32 2\n  %100 = load i16, i16* %99, align 2\n  %101 = icmp eq i16 %100, 1\n  %102 = and i1 %98, %101\n  br i1 %102, label %assert_end43, label %assert_fail42, !prof !6\n\nassert_fail42:                                    ; preds = %assert_end41\n  %103 = load void (i8*)*, void (i8*)** @__TVMAPISetLastError, align 8, !tbaa !7\n  tail call void %103(i8* getelementptr inbounds ([198 x i8], [198 x i8]* @.str.9, i64 0, i64 0))\n  ret i32 -1\n\nassert_end43:                                     ; preds = %assert_end41\n  %104 = load i64, i64* %41, align 8, !tbaa !85\n  %105 = trunc i64 %104 to i32\n  %106 = icmp eq i32 %29, %105\n  br i1 %106, label %assert_end45, label %assert_fail44, !prof !6\n\nassert_fail44:                                    ; preds = %assert_end43\n  %107 = load void (i8*)*, void (i8*)** @__TVMAPISetLastError, align 8, !tbaa !7\n  tail call void %107(i8* getelementptr inbounds ([95 x i8], [95 x i8]* @.str.10, i64 0, i64 0))\n  ret i32 -1\n\nassert_end45:                                     ; preds = %assert_end43\n  %108 = getelementptr inbounds %0, %0* %14, i64 0, i32 6\n  %109 = load i64, i64* %108, align 8\n  %110 = icmp eq i64 %109, 0\n  br i1 %110, label %assert_end47, label %assert_fail46, !prof !6\n\nassert_fail46:                                    ; preds = %assert_end45\n  %111 = load void (i8*)*, void (i8*)** @__TVMAPISetLastError, align 8, !tbaa !7\n  tail call void %111(i8* getelementptr inbounds ([116 x i8], [116 x i8]* @.str.11, i64 0, i64 0))\n  ret i32 -1\n\nassert_end47:                                     ; preds = %assert_end45\n  %112 = getelementptr inbounds %0, %0* %14, i64 0, i32 1, i32 0\n  %113 = load i32, i32* %112, align 4\n  %114 = icmp eq i32 %113, 1\n  br i1 %114, label %assert_end49, label %assert_fail48, !prof !6\n\nassert_fail48:                                    ; preds = %assert_end47\n  %115 = load void (i8*)*, void (i8*)** @__TVMAPISetLastError, align 8, !tbaa !7\n  tail call void %115(i8* getelementptr inbounds ([109 x i8], [109 x i8]* @.str.12, i64 0, i64 0))\n  ret i32 -1\n\nassert_end49:                                     ; preds = %assert_end47\n  %116 = getelementptr inbounds %0, %0* %14, i64 0, i32 1, i32 1\n  %117 = load i32, i32* %116, align 4\n  %118 = icmp eq i32 %37, %117\n  br i1 %118, label %assert_end51, label %assert_fail50, !prof !6\n\nassert_fail50:                                    ; preds = %assert_end49\n  %119 = load void (i8*)*, void (i8*)** @__TVMAPISetLastError, align 8, !tbaa !7\n  tail call void %119(i8* getelementptr inbounds ([111 x i8], [111 x i8]* @.str.13, i64 0, i64 0))\n  ret i32 -1\n\nassert_end51:                                     ; preds = %assert_end49\n  %120 = getelementptr inbounds %0, %0* %20, i64 0, i32 2\n  %121 = load i32, i32* %120, align 4\n  %122 = icmp eq i32 %121, 1\n  br i1 %122, label %assert_end55, label %assert_fail52, !prof !6\n\nassert_fail52:                                    ; preds = %assert_end51\n  %123 = load void (i8*)*, void (i8*)** @__TVMAPISetLastError, align 8, !tbaa !7\n  tail call void %123(i8* getelementptr inbounds ([85 x i8], [85 x i8]* @.str.14, i64 0, i64 0))\n  ret i32 -1\n\nassert_end55:                                     ; preds = %assert_end51\n  %124 = getelementptr inbounds %0, %0* %20, i64 0, i32 3, i32 0\n  %125 = load i8, i8* %124, align 1\n  %126 = icmp eq i8 %125, 2\n  %127 = getelementptr inbounds %0, %0* %20, i64 0, i32 3, i32 1\n  %128 = load i8, i8* %127, align 1\n  %129 = icmp eq i8 %128, 32\n  %130 = and i1 %126, %129\n  %131 = getelementptr inbounds %0, %0* %20, i64 0, i32 3, i32 2\n  %132 = load i16, i16* %131, align 2\n  %133 = icmp eq i16 %132, 1\n  %134 = and i1 %130, %133\n  br i1 %134, label %assert_end57, label %assert_fail56, !prof !6\n\nassert_fail56:                                    ; preds = %assert_end55\n  %135 = load void (i8*)*, void (i8*)** @__TVMAPISetLastError, align 8, !tbaa !7\n  tail call void %135(i8* getelementptr inbounds ([198 x i8], [198 x i8]* @.str.15, i64 0, i64 0))\n  ret i32 -1\n\nassert_end57:                                     ; preds = %assert_end55\n  %136 = load i64, i64* %52, align 8, !tbaa !99\n  %137 = trunc i64 %136 to i32\n  %138 = icmp eq i32 %29, %137\n  br i1 %138, label %assert_end59, label %assert_fail58, !prof !6\n\nassert_fail58:                                    ; preds = %assert_end57\n  %139 = load void (i8*)*, void (i8*)** @__TVMAPISetLastError, align 8, !tbaa !7\n  tail call void %139(i8* getelementptr inbounds ([95 x i8], [95 x i8]* @.str.16, i64 0, i64 0))\n  ret i32 -1\n\nassert_end59:                                     ; preds = %assert_end57\n  %140 = getelementptr inbounds %0, %0* %20, i64 0, i32 6\n  %141 = load i64, i64* %140, align 8\n  %142 = icmp eq i64 %141, 0\n  br i1 %142, label %assert_end61, label %assert_fail60, !prof !6\n\nassert_fail60:                                    ; preds = %assert_end59\n  %143 = load void (i8*)*, void (i8*)** @__TVMAPISetLastError, align 8, !tbaa !7\n  tail call void %143(i8* getelementptr inbounds ([116 x i8], [116 x i8]* @.str.17, i64 0, i64 0))\n  ret i32 -1\n\nassert_end61:                                     ; preds = %assert_end59\n  %144 = getelementptr inbounds %0, %0* %20, i64 0, i32 1, i32 0\n  %145 = load i32, i32* %144, align 4\n  %146 = icmp eq i32 %145, 1\n  br i1 %146, label %assert_end63, label %assert_fail62, !prof !6\n\nassert_fail62:                                    ; preds = %assert_end61\n  %147 = load void (i8*)*, void (i8*)** @__TVMAPISetLastError, align 8, !tbaa !7\n  tail call void %147(i8* getelementptr inbounds ([109 x i8], [109 x i8]* @.str.18, i64 0, i64 0))\n  ret i32 -1\n\nassert_end63:                                     ; preds = %assert_end61\n  %148 = getelementptr inbounds %0, %0* %20, i64 0, i32 1, i32 1\n  %149 = load i32, i32* %148, align 4\n  %150 = icmp eq i32 %37, %149\n  br i1 %150, label %assert_end65, label %assert_fail64, !prof !6\n\nassert_fail64:                                    ; preds = %assert_end63\n  %151 = load void (i8*)*, void (i8*)** @__TVMAPISetLastError, align 8, !tbaa !7\n  tail call void %151(i8* getelementptr inbounds ([111 x i8], [111 x i8]* @.str.19, i64 0, i64 0))\n  ret i32 -1\n\nassert_end65:                                     ; preds = %assert_end63\n  tail call fastcc void @myadd_compute_(i32 %29, i8* %50, i8* %25, i32 %34, i8* %39, i32 %47, i32 %58)\n  ret i32 0\n}\n\n; Function Attrs: nounwind willreturn\ndeclare void @llvm.assume(i1) #0\n\n; Function Attrs: nofree noinline norecurse nounwind\ndefine private fastcc void @myadd_compute_(i32 %0, i8* noalias nocapture align 128 %1, i8* noalias nocapture readonly align 128 %2, i32 %3, i8* noalias nocapture readonly align 128 %4, i32 %5, i32 %6) unnamed_addr #1 {\nentry:\n  %7 = icmp sgt i32 %0, 63\n  br i1 %7, label %for_begin1.preheader.lr.ph, label %for_end, !prof !6\n\nfor_begin1.preheader.lr.ph:                       ; preds = %entry\n  %8 = lshr i32 %0, 6\n  %9 = sext i32 %6 to i64\n  %10 = sext i32 %3 to i64\n  %11 = sext i32 %5 to i64\n  %12 = zext i32 %8 to i64\n  %13 = shl i64 %11, 8\n  %14 = shl nsw i64 %11, 2\n  %15 = shl i64 %10, 8\n  %16 = shl nsw i64 %10, 2\n  %17 = shl i64 %9, 8\n  %18 = shl nsw i64 %9, 2\n  br label %for_begin1.preheader\n\nfor_begin1.preheader:                             ; preds = %for_begin1.preheader.lr.ph, %for_end3\n  %lsr.iv38 = phi i8* [ %1, %for_begin1.preheader.lr.ph ], [ %33, %for_end3 ]\n  %lsr.iv31 = phi i8* [ %2, %for_begin1.preheader.lr.ph ], [ %32, %for_end3 ]\n  %lsr.iv24 = phi i8* [ %4, %for_begin1.preheader.lr.ph ], [ %31, %for_end3 ]\n  %indvars.iv6 = phi i64 [ 0, %for_begin1.preheader.lr.ph ], [ %indvars.iv.next7, %for_end3 ]\n  br label %for_body2\n\nfor_end:                                          ; preds = %for_end3, %entry\n  %19 = and i32 %0, 63\n  %20 = add nuw nsw i32 %19, 63\n  %.mask = and i32 %20, 64\n  %21 = icmp eq i32 %.mask, 0\n  br i1 %21, label %for_end6, label %for_begin7.preheader, !prof !113\n\nfor_body2:                                        ; preds = %for_body2, %for_begin1.preheader\n  %lsr.iv45 = phi i64 [ %lsr.iv.next46, %for_body2 ], [ 64, %for_begin1.preheader ]\n  %lsr.iv41 = phi i8* [ %27, %for_body2 ], [ %lsr.iv38, %for_begin1.preheader ]\n  %lsr.iv34 = phi i8* [ %26, %for_body2 ], [ %lsr.iv31, %for_begin1.preheader ]\n  %lsr.iv27 = phi i8* [ %25, %for_body2 ], [ %lsr.iv24, %for_begin1.preheader ]\n  %lsr.iv4144 = bitcast i8* %lsr.iv41 to float*\n  %lsr.iv4142 = bitcast i8* %lsr.iv41 to i1*\n  %lsr.iv3437 = bitcast i8* %lsr.iv34 to float*\n  %lsr.iv3435 = bitcast i8* %lsr.iv34 to i1*\n  %lsr.iv2730 = bitcast i8* %lsr.iv27 to float*\n  %lsr.iv2728 = bitcast i8* %lsr.iv27 to i1*\n  %22 = load float, float* %lsr.iv3437, align 4, !tbaa !114\n  %23 = load float, float* %lsr.iv2730, align 4, !tbaa !117\n  %24 = fadd float %22, %23\n  store float %24, float* %lsr.iv4144, align 4, !tbaa !120\n  %scevgep29 = getelementptr i1, i1* %lsr.iv2728, i64 %14\n  %25 = bitcast i1* %scevgep29 to i8*\n  %scevgep36 = getelementptr i1, i1* %lsr.iv3435, i64 %16\n  %26 = bitcast i1* %scevgep36 to i8*\n  %scevgep43 = getelementptr i1, i1* %lsr.iv4142, i64 %18\n  %27 = bitcast i1* %scevgep43 to i8*\n  %lsr.iv.next46 = add nsw i64 %lsr.iv45, -1\n  %exitcond5 = icmp eq i64 %lsr.iv.next46, 0\n  br i1 %exitcond5, label %for_end3, label %for_body2, !prof !113\n\nfor_end3:                                         ; preds = %for_body2\n  %28 = bitcast i8* %lsr.iv24 to i1*\n  %29 = bitcast i8* %lsr.iv31 to i1*\n  %30 = bitcast i8* %lsr.iv38 to i1*\n  %indvars.iv.next7 = add nuw nsw i64 %indvars.iv6, 1\n  %scevgep26 = getelementptr i1, i1* %28, i64 %13\n  %31 = bitcast i1* %scevgep26 to i8*\n  %scevgep33 = getelementptr i1, i1* %29, i64 %15\n  %32 = bitcast i1* %scevgep33 to i8*\n  %scevgep40 = getelementptr i1, i1* %30, i64 %17\n  %33 = bitcast i1* %scevgep40 to i8*\n  %34 = icmp ult i64 %indvars.iv.next7, %12\n  br i1 %34, label %for_begin1.preheader, label %for_end, !prof !6\n\nfor_begin7.preheader:                             ; preds = %for_end\n  %35 = and i32 %0, -64\n  %36 = sext i32 %0 to i64\n  %37 = sext i32 %6 to i64\n  %38 = sext i32 %3 to i64\n  %39 = sext i32 %5 to i64\n  %40 = sext i32 %35 to i64\n  %41 = mul i64 %39, %40\n  %42 = shl i64 %41, 2\n  %scevgep = getelementptr i8, i8* %4, i64 %42\n  %43 = shl nsw i64 %39, 2\n  %44 = mul i64 %38, %40\n  %45 = shl i64 %44, 2\n  %scevgep11 = getelementptr i8, i8* %2, i64 %45\n  %46 = shl nsw i64 %38, 2\n  %47 = mul i64 %37, %40\n  %48 = shl i64 %47, 2\n  %scevgep16 = getelementptr i8, i8* %1, i64 %48\n  %49 = shl nsw i64 %37, 2\n  br label %for_body8\n\nfor_end6:                                         ; preds = %if_end, %for_end\n  ret void\n\nfor_body8:                                        ; preds = %if_end, %for_begin7.preheader\n  %lsr.iv22 = phi i64 [ %lsr.iv.next23, %if_end ], [ 64, %for_begin7.preheader ]\n  %lsr.iv21 = phi i64 [ %lsr.iv.next, %if_end ], [ %40, %for_begin7.preheader ]\n  %lsr.iv17 = phi i8* [ %62, %if_end ], [ %scevgep16, %for_begin7.preheader ]\n  %lsr.iv12 = phi i8* [ %61, %if_end ], [ %scevgep11, %for_begin7.preheader ]\n  %lsr.iv = phi i8* [ %60, %if_end ], [ %scevgep, %for_begin7.preheader ]\n  %50 = icmp slt i64 %lsr.iv21, %36\n  br i1 %50, label %if_then, label %if_end, !prof !6\n\nif_then:                                          ; preds = %for_body8\n  %51 = bitcast i8* %lsr.iv to float*\n  %52 = bitcast i8* %lsr.iv12 to float*\n  %53 = bitcast i8* %lsr.iv17 to float*\n  %54 = load float, float* %52, align 4, !tbaa !114\n  %55 = load float, float* %51, align 4, !tbaa !117\n  %56 = fadd float %54, %55\n  store float %56, float* %53, align 4, !tbaa !120\n  br label %if_end\n\nif_end:                                           ; preds = %if_then, %for_body8\n  %57 = bitcast i8* %lsr.iv to i1*\n  %58 = bitcast i8* %lsr.iv12 to i1*\n  %59 = bitcast i8* %lsr.iv17 to i1*\n  %scevgep9 = getelementptr i1, i1* %57, i64 %43\n  %60 = bitcast i1* %scevgep9 to i8*\n  %scevgep14 = getelementptr i1, i1* %58, i64 %46\n  %61 = bitcast i1* %scevgep14 to i8*\n  %scevgep19 = getelementptr i1, i1* %59, i64 %49\n  %62 = bitcast i1* %scevgep19 to i8*\n  %lsr.iv.next = add nsw i64 %lsr.iv21, 1\n  %lsr.iv.next23 = add nsw i64 %lsr.iv22, -1\n  %exitcond = icmp eq i64 %lsr.iv.next23, 0\n  br i1 %exitcond, label %for_end6, label %for_body8, !prof !113\n}\n\n; Function Attrs: nounwind\ndeclare void @llvm.stackprotector(i8*, i8**) #2\n\nattributes #0 = { nounwind willreturn }\nattributes #1 = { nofree noinline norecurse nounwind }\nattributes #2 = { nounwind }\n\n!llvm.dbg.cu = !{!0}\n!llvm.module.flags = !{!3, !4, !5}\n\n!0 = distinct !DICompileUnit(language: DW_LANG_C, file: !1, producer: \"TVM\", isOptimized: false, runtimeVersion: 0, emissionKind: FullDebug, enums: !2, dwoId: 1)\n!1 = !DIFile(filename: \"model.tvm\", directory: \"/tmp/\")\n!2 = !{}\n!3 = !{i32 2, !\"tvm_target\", !\"llvm\"}\n!4 = !{i32 4, !\"Debug Info Version\", i32 3}\n!5 = !{i32 4, !\"Dwarf Version\", i32 2}\n!6 = !{!\"branch_weights\", i32 1048576, i32 1}\n!7 = !{!8, !8, i64 0}\n!8 = !{!\"ctx_ptr\", !9, i64 0}\n!9 = !{!\"tvm-tbaa\"}\n!10 = !{!11, !11, i64 0}\n!11 = !{!\"0x7ff454655ae0.w1.b0\", !12, i64 0}\n!12 = !{!\"0x7ff454655ae0.w2.b0\", !13, i64 0}\n!13 = !{!\"0x7ff454655ae0.w4.b0\", !14, i64 0}\n!14 = !{!\"0x7ff454655ae0.w8.b0\", !15, i64 0}\n!15 = !{!\"0x7ff454655ae0.w16.b0\", !16, i64 0}\n!16 = !{!\"0x7ff454655ae0.w32.b0\", !17, i64 0}\n!17 = !{!\"0x7ff454655ae0.w64.b0\", !18, i64 0}\n!18 = !{!\"0x7ff454655ae0.w128.b0\", !19, i64 0}\n!19 = !{!\"0x7ff454655ae0.w256.b0\", !20, i64 0}\n!20 = !{!\"0x7ff454655ae0.w512.b0\", !21, i64 0}\n!21 = !{!\"0x7ff454655ae0.w1024.b0\", !22, i64 0}\n!22 = !{!\"i8\", !23, i64 0}\n!23 = !{!\"0x7ff454655ae0\", !9, i64 0}\n!24 = !{!25, !25, i64 0}\n!25 = !{!\"0x7ff454655ae0.w1.b1\", !12, i64 0}\n!26 = !{!27, !27, i64 0}\n!27 = !{!\"0x7ff454655ae0.w1.b2\", !28, i64 0}\n!28 = !{!\"0x7ff454655ae0.w2.b2\", !13, i64 0}\n!29 = !{!30, !30, i64 0}\n!30 = !{!\"0x7ff45465c0f0.w1.b0\", !31, i64 0}\n!31 = !{!\"0x7ff45465c0f0.w2.b0\", !32, i64 0}\n!32 = !{!\"0x7ff45465c0f0.w4.b0\", !33, i64 0}\n!33 = !{!\"0x7ff45465c0f0.w8.b0\", !34, i64 0}\n!34 = !{!\"0x7ff45465c0f0.w16.b0\", !35, i64 0}\n!35 = !{!\"0x7ff45465c0f0.w32.b0\", !36, i64 0}\n!36 = !{!\"0x7ff45465c0f0.w64.b0\", !37, i64 0}\n!37 = !{!\"0x7ff45465c0f0.w128.b0\", !38, i64 0}\n!38 = !{!\"0x7ff45465c0f0.w256.b0\", !39, i64 0}\n!39 = !{!\"0x7ff45465c0f0.w512.b0\", !40, i64 0}\n!40 = !{!\"0x7ff45465c0f0.w1024.b0\", !41, i64 0}\n!41 = !{!\"i64\", !42, i64 0}\n!42 = !{!\"0x7ff45465c0f0\", !9, i64 0}\n!43 = !{!44, !44, i64 0}\n!44 = !{!\"0x7ff45464cb40.w1.b0\", !45, i64 0}\n!45 = !{!\"0x7ff45464cb40.w2.b0\", !46, i64 0}\n!46 = !{!\"0x7ff45464cb40.w4.b0\", !47, i64 0}\n!47 = !{!\"0x7ff45464cb40.w8.b0\", !48, i64 0}\n!48 = !{!\"0x7ff45464cb40.w16.b0\", !49, i64 0}\n!49 = !{!\"0x7ff45464cb40.w32.b0\", !50, i64 0}\n!50 = !{!\"0x7ff45464cb40.w64.b0\", !51, i64 0}\n!51 = !{!\"0x7ff45464cb40.w128.b0\", !52, i64 0}\n!52 = !{!\"0x7ff45464cb40.w256.b0\", !53, i64 0}\n!53 = !{!\"0x7ff45464cb40.w512.b0\", !54, i64 0}\n!54 = !{!\"0x7ff45464cb40.w1024.b0\", !55, i64 0}\n!55 = !{!\"i64\", !56, i64 0}\n!56 = !{!\"0x7ff45464cb40\", !9, i64 0}\n!57 = !{!58, !58, i64 0}\n!58 = !{!\"0x7ff45464add0.w1.b0\", !59, i64 0}\n!59 = !{!\"0x7ff45464add0.w2.b0\", !60, i64 0}\n!60 = !{!\"0x7ff45464add0.w4.b0\", !61, i64 0}\n!61 = !{!\"0x7ff45464add0.w8.b0\", !62, i64 0}\n!62 = !{!\"0x7ff45464add0.w16.b0\", !63, i64 0}\n!63 = !{!\"0x7ff45464add0.w32.b0\", !64, i64 0}\n!64 = !{!\"0x7ff45464add0.w64.b0\", !65, i64 0}\n!65 = !{!\"0x7ff45464add0.w128.b0\", !66, i64 0}\n!66 = !{!\"0x7ff45464add0.w256.b0\", !67, i64 0}\n!67 = !{!\"0x7ff45464add0.w512.b0\", !68, i64 0}\n!68 = !{!\"0x7ff45464add0.w1024.b0\", !69, i64 0}\n!69 = !{!\"i64\", !70, i64 0}\n!70 = !{!\"0x7ff45464add0\", !9, i64 0}\n!71 = !{!72, !72, i64 0}\n!72 = !{!\"0x7ff4546556b0.w1.b0\", !73, i64 0}\n!73 = !{!\"0x7ff4546556b0.w2.b0\", !74, i64 0}\n!74 = !{!\"0x7ff4546556b0.w4.b0\", !75, i64 0}\n!75 = !{!\"0x7ff4546556b0.w8.b0\", !76, i64 0}\n!76 = !{!\"0x7ff4546556b0.w16.b0\", !77, i64 0}\n!77 = !{!\"0x7ff4546556b0.w32.b0\", !78, i64 0}\n!78 = !{!\"0x7ff4546556b0.w64.b0\", !79, i64 0}\n!79 = !{!\"0x7ff4546556b0.w128.b0\", !80, i64 0}\n!80 = !{!\"0x7ff4546556b0.w256.b0\", !81, i64 0}\n!81 = !{!\"0x7ff4546556b0.w512.b0\", !82, i64 0}\n!82 = !{!\"0x7ff4546556b0.w1024.b0\", !83, i64 0}\n!83 = !{!\"i64\", !84, i64 0}\n!84 = !{!\"0x7ff4546556b0\", !9, i64 0}\n!85 = !{!86, !86, i64 0}\n!86 = !{!\"0x7ff454647350.w1.b0\", !87, i64 0}\n!87 = !{!\"0x7ff454647350.w2.b0\", !88, i64 0}\n!88 = !{!\"0x7ff454647350.w4.b0\", !89, i64 0}\n!89 = !{!\"0x7ff454647350.w8.b0\", !90, i64 0}\n!90 = !{!\"0x7ff454647350.w16.b0\", !91, i64 0}\n!91 = !{!\"0x7ff454647350.w32.b0\", !92, i64 0}\n!92 = !{!\"0x7ff454647350.w64.b0\", !93, i64 0}\n!93 = !{!\"0x7ff454647350.w128.b0\", !94, i64 0}\n!94 = !{!\"0x7ff454647350.w256.b0\", !95, i64 0}\n!95 = !{!\"0x7ff454647350.w512.b0\", !96, i64 0}\n!96 = !{!\"0x7ff454647350.w1024.b0\", !97, i64 0}\n!97 = !{!\"i64\", !98, i64 0}\n!98 = !{!\"0x7ff454647350\", !9, i64 0}\n!99 = !{!100, !100, i64 0}\n!100 = !{!\"0x7ff4546554d0.w1.b0\", !101, i64 0}\n!101 = !{!\"0x7ff4546554d0.w2.b0\", !102, i64 0}\n!102 = !{!\"0x7ff4546554d0.w4.b0\", !103, i64 0}\n!103 = !{!\"0x7ff4546554d0.w8.b0\", !104, i64 0}\n!104 = !{!\"0x7ff4546554d0.w16.b0\", !105, i64 0}\n!105 = !{!\"0x7ff4546554d0.w32.b0\", !106, i64 0}\n!106 = !{!\"0x7ff4546554d0.w64.b0\", !107, i64 0}\n!107 = !{!\"0x7ff4546554d0.w128.b0\", !108, i64 0}\n!108 = !{!\"0x7ff4546554d0.w256.b0\", !109, i64 0}\n!109 = !{!\"0x7ff4546554d0.w512.b0\", !110, i64 0}\n!110 = !{!\"0x7ff4546554d0.w1024.b0\", !111, i64 0}\n!111 = !{!\"i64\", !112, i64 0}\n!112 = !{!\"0x7ff4546554d0\", !9, i64 0}\n!113 = !{!\"branch_weights\", i32 1, i32 1048576}\n!114 = !{!115, !115, i64 0}\n!115 = !{!\"i8\", !116, i64 0}\n!116 = !{!\"0x7ff45463f540\", !9, i64 0}\n!117 = !{!118, !118, i64 0}\n!118 = !{!\"i8\", !119, i64 0}\n!119 = !{!\"0x7ff45464bd70\", !9, i64 0}\n!120 = !{!121, !121, i64 0}\n!121 = !{!\"i8\", !122, i64 0}\n!122 = !{!\"0x7ff454105440\", !9, i64 0}\n\n"
     ]
    }
   ],
   "source": [
    "print(fadd.get_source())"
   ]
  },
  {
   "cell_type": "code",
   "execution_count": 23,
   "metadata": {},
   "outputs": [
    {
     "output_type": "stream",
     "name": "stdout",
     "text": [
      "['myadd.so', 'myadd.o']\n"
     ]
    }
   ],
   "source": [
    "from tvm.contrib import cc\n",
    "from tvm.contrib import util\n",
    "\n",
    "temp = util.tempdir()\n",
    "fadd.save(temp.relpath(\"myadd.o\"))\n",
    "cc.create_shared(temp.relpath(\"myadd.so\"), [temp.relpath(\"myadd.o\")])\n",
    "print(temp.listdir())"
   ]
  },
  {
   "cell_type": "code",
   "execution_count": 24,
   "metadata": {},
   "outputs": [],
   "source": [
    "fadd1 = tvm.runtime.load_module(temp.relpath(\"myadd.so\"))\n",
    "fadd1(a, b, c)\n",
    "tvm.testing.assert_allclose(c.asnumpy(), a.asnumpy() + b.asnumpy())"
   ]
  },
  {
   "cell_type": "code",
   "execution_count": 25,
   "metadata": {},
   "outputs": [],
   "source": [
    "fadd.export_library(temp.relpath(\"myadd_pack.so\"))\n",
    "fadd2 = tvm.runtime.load_module(temp.relpath(\"myadd_pack.so\"))\n",
    "fadd2(a, b, c)\n",
    "tvm.testing.assert_allclose(c.asnumpy(), a.asnumpy() + b.asnumpy())"
   ]
  },
  {
   "cell_type": "code",
   "execution_count": null,
   "metadata": {},
   "outputs": [],
   "source": []
  },
  {
   "cell_type": "code",
   "execution_count": null,
   "metadata": {},
   "outputs": [],
   "source": []
  }
 ],
 "metadata": {
  "kernelspec": {
   "display_name": "Python 3",
   "language": "python",
   "name": "python3"
  },
  "language_info": {
   "codemirror_mode": {
    "name": "ipython",
    "version": 3
   },
   "file_extension": ".py",
   "mimetype": "text/x-python",
   "name": "python",
   "nbconvert_exporter": "python",
   "pygments_lexer": "ipython3",
   "version": "3.8.5-final"
  }
 },
 "nbformat": 4,
 "nbformat_minor": 4
}